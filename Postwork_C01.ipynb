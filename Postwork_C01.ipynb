{
 "cells": [
  {
   "cell_type": "markdown",
   "id": "32605d4e-c3f7-4f6f-b182-dfc4176957ea",
   "metadata": {},
   "source": [
    "### Imagina que trabajas en un prestigioso laboratorio de biotecnología que está a la vanguardia en la investigación de resistencia a antibióticos. El director del laboratorio te ha asignado una misión crítica: analizar los datos de resistencia a antibióticos en diferentes cepas bacterianas recolectados de diversos hospitales en el último año. Estos datos incluyen la concentración mínima inhibitoria (MIC) para varios antibióticos, proporcionando una visión detallada sobre cómo diferentes cepas responden a los tratamientos actuales. La resistencia a antibióticos es un problema global creciente y tu análisis podría proporcionar información clave para desarrollar tratamientos más efectivos y salvar vidas.\n",
    "\n",
    "### Tu tarea es desarrollar un análisis exhaustivo en Python que permita importar y examinar un conjunto de datos sobre la resistencia a antibióticos, y calcular estadísticas descriptivas. Este análisis ayudará a entender la resistencia actual y también contribuirá a estrategias futuras en la lucha contra infecciones bacterianas resistentes.\n",
    "\n",
    "### Lo que el programa debe realizar es:\n",
    "### Importar y explorar el conjunto de datos.\n",
    "### Calcular las medidas de locación (media, mediana, moda) para la MIC de cada antibiótico.\n",
    "### Calcular las medidas de variabilidad (varianza, desviación estándar) para la MIC de cada antibiótico.\n",
    "### Identificar y tratar valores atípicos.\n"
   ]
  },
  {
   "cell_type": "code",
   "execution_count": 8,
   "id": "fab5e021-00eb-418d-9883-e199958fba60",
   "metadata": {},
   "outputs": [],
   "source": [
    "# importar bibliotecas\n",
    "import pandas as pd\n",
    "import numpy as np\n",
    "import matplotlib.pyplot as plt\n",
    "import seaborn as sns\n",
    "from scipy import stats"
   ]
  },
  {
   "cell_type": "code",
   "execution_count": 9,
   "id": "8af4a1b7-c7f6-47de-a374-7673cf00c8c8",
   "metadata": {},
   "outputs": [
    {
     "name": "stdout",
     "output_type": "stream",
     "text": [
      "    Cepas  Antibiotico_1_MIC  Antibiotico_2_MIC  Antibiotico_3_MIC\n",
      "0  Cepa_1                  7                  4                  8\n",
      "1  Cepa_1                  5                  7                  3\n",
      "2  Cepa_1                  7                  8                  5\n",
      "3  Cepa_1                  4                  8                  8\n",
      "4  Cepa_1                  3                  6                  5\n"
     ]
    }
   ],
   "source": [
    "# Cargar los datos\n",
    "df = pd.read_csv(\"S01_Postwork (Dataset)_Estudio de resistencia a antibióticos(in).csv\")\n",
    "\n",
    "# Revisar las primeras filas del DataFrame\n",
    "print(df.head())\n"
   ]
  },
  {
   "cell_type": "code",
   "execution_count": 10,
   "id": "5773e19b-5b7c-4975-9701-771b283ab493",
   "metadata": {},
   "outputs": [
    {
     "name": "stdout",
     "output_type": "stream",
     "text": [
      "<class 'pandas.core.frame.DataFrame'>\n",
      "RangeIndex: 1500 entries, 0 to 1499\n",
      "Data columns (total 4 columns):\n",
      " #   Column             Non-Null Count  Dtype \n",
      "---  ------             --------------  ----- \n",
      " 0   Cepas              1500 non-null   object\n",
      " 1   Antibiotico_1_MIC  1500 non-null   int64 \n",
      " 2   Antibiotico_2_MIC  1500 non-null   int64 \n",
      " 3   Antibiotico_3_MIC  1500 non-null   int64 \n",
      "dtypes: int64(3), object(1)\n",
      "memory usage: 47.0+ KB\n",
      "None\n"
     ]
    }
   ],
   "source": [
    "# Información básica sobre el DataFrame\n",
    "print(df.info())\n",
    "\n"
   ]
  },
  {
   "cell_type": "code",
   "execution_count": 11,
   "id": "73004c4e-1cd9-4428-8c24-adec1933a6f4",
   "metadata": {},
   "outputs": [
    {
     "name": "stdout",
     "output_type": "stream",
     "text": [
      "Cepas                0\n",
      "Antibiotico_1_MIC    0\n",
      "Antibiotico_2_MIC    0\n",
      "Antibiotico_3_MIC    0\n",
      "dtype: int64\n"
     ]
    }
   ],
   "source": [
    "# Verificar la presencia de valores nulos\n",
    "print(df.isnull().sum())"
   ]
  },
  {
   "cell_type": "code",
   "execution_count": 13,
   "id": "fcf7a5b6-3426-4c86-bb33-39d3badabce6",
   "metadata": {
    "scrolled": true
   },
   "outputs": [
    {
     "name": "stdout",
     "output_type": "stream",
     "text": [
      "Antibiótico Antibiotico_1_MIC:\n",
      "Media: 5.0\n",
      "Mediana: 5.0\n",
      "Moda: 1\n",
      "------------------------------\n",
      "Antibiótico Antibiotico_2_MIC:\n",
      "Media: 4.989333333333334\n",
      "Mediana: 5.0\n",
      "Moda: 8\n",
      "------------------------------\n",
      "Antibiótico Antibiotico_3_MIC:\n",
      "Media: 4.954\n",
      "Mediana: 5.0\n",
      "Moda: 6\n",
      "------------------------------\n"
     ]
    }
   ],
   "source": [
    "# Selección de columnas con MIC para cada antibiótico\n",
    "antibiotics_columns = ['Antibiotico_1_MIC', 'Antibiotico_2_MIC', 'Antibiotico_3_MIC']  # Cambiar según las columnas reales\n",
    "\n",
    "# Calcular la media, mediana y moda para cada antibiótico\n",
    "for col in antibiotics_columns:\n",
    "    mean = df[col].mean()\n",
    "    median = df[col].median()\n",
    "    mode = df[col].mode()[0]\n",
    "    \n",
    "    print(f\"Antibiótico {col}:\")\n",
    "    print(f\"Media: {mean}\")\n",
    "    print(f\"Mediana: {median}\")\n",
    "    print(f\"Moda: {mode}\")\n",
    "    print(\"-\" * 30)\n",
    "\n"
   ]
  },
  {
   "cell_type": "code",
   "execution_count": 15,
   "id": "df7d61d7-76f9-4962-b104-8bc101a8eadf",
   "metadata": {},
   "outputs": [
    {
     "name": "stdout",
     "output_type": "stream",
     "text": [
      "Antibiótico Antibiotico_1_MIC:\n",
      "Varianza: 6.688458972648433\n",
      "Desviación estándar: 2.5862055163208573\n",
      "------------------------------\n",
      "Antibiótico Antibiotico_2_MIC:\n",
      "Varianza: 6.7804064932177\n",
      "Desviación estándar: 2.603921368478261\n",
      "------------------------------\n",
      "Antibiótico Antibiotico_3_MIC:\n",
      "Varianza: 6.637642428285524\n",
      "Desviación estándar: 2.5763622471006524\n",
      "------------------------------\n"
     ]
    }
   ],
   "source": [
    "# Calcular varianza y desviación estándar para cada antibiótico\n",
    "for col in antibiotics_columns:\n",
    "    variance = df[col].var()\n",
    "    std_dev = df[col].std()\n",
    "    \n",
    "    print(f\"Antibiótico {col}:\")\n",
    "    print(f\"Varianza: {variance}\")\n",
    "    print(f\"Desviación estándar: {std_dev}\")\n",
    "    print(\"-\" * 30)\n"
   ]
  },
  {
   "cell_type": "code",
   "execution_count": 14,
   "id": "cec4f0af-a31a-4837-a0fb-02144209683d",
   "metadata": {},
   "outputs": [
    {
     "name": "stdout",
     "output_type": "stream",
     "text": [
      "Valores atípicos en Antibiotico_1_MIC:\n",
      "Empty DataFrame\n",
      "Columns: [Cepas, Antibiotico_1_MIC, Antibiotico_2_MIC, Antibiotico_3_MIC]\n",
      "Index: []\n",
      "------------------------------\n",
      "Valores atípicos en Antibiotico_2_MIC:\n",
      "Empty DataFrame\n",
      "Columns: [Cepas, Antibiotico_1_MIC, Antibiotico_2_MIC, Antibiotico_3_MIC]\n",
      "Index: []\n",
      "------------------------------\n",
      "Valores atípicos en Antibiotico_3_MIC:\n",
      "Empty DataFrame\n",
      "Columns: [Cepas, Antibiotico_1_MIC, Antibiotico_2_MIC, Antibiotico_3_MIC]\n",
      "Index: []\n",
      "------------------------------\n"
     ]
    }
   ],
   "source": [
    "# Función para identificar valores atípicos utilizando IQR\n",
    "def detectar_outliers_iqr(col):\n",
    "    Q1 = np.percentile(df[col], 25)\n",
    "    Q3 = np.percentile(df[col], 75)\n",
    "    IQR = Q3 - Q1\n",
    "    limite_inferior = Q1 - 1.5 * IQR\n",
    "    limite_superior = Q3 + 1.5 * IQR\n",
    "    \n",
    "    outliers = df[(df[col] < limite_inferior) | (df[col] > limite_superior)]\n",
    "    \n",
    "    return outliers\n",
    "\n",
    "# Detectar outliers para cada antibiótico\n",
    "for col in antibiotics_columns:\n",
    "    outliers = detectar_outliers_iqr(col)\n",
    "    print(f\"Valores atípicos en {col}:\")\n",
    "    print(outliers)\n",
    "    print(\"-\" * 30)\n"
   ]
  },
  {
   "cell_type": "code",
   "execution_count": null,
   "id": "409c81a1-8eb9-46fe-8020-eb5c8f5872ef",
   "metadata": {},
   "outputs": [],
   "source": [
    "# Tratar los valores atípicos eliminándolos\n",
    "def eliminar_outliers_iqr(col):\n",
    "    Q1 = np.percentile(df[col], 25)\n",
    "    Q3 = np.percentile(df[col], 75)\n",
    "    IQR = Q3 - Q1\n",
    "    limite_inferior = Q1 - 1.5 * IQR\n",
    "    limite_superior = Q3 + 1.5 * IQR\n",
    "    \n",
    "    df_sin_outliers = df[(df[col] >= limite_inferior) & (df[col] <= limite_superior)]\n",
    "    \n",
    "    return df_sin_outliers\n",
    "\n",
    "# Aplicar la eliminación de outliers a cada columna\n",
    "for col in antibiotics_columns:\n",
    "    df = eliminar_outliers_iqr(col)\n",
    "\n",
    "print(\"Datos después de eliminar valores atípicos:\")\n",
    "print(df.describe())\n"
   ]
  },
  {
   "cell_type": "code",
   "execution_count": 16,
   "id": "dc9732c3-a62e-4b74-859f-605495572a24",
   "metadata": {},
   "outputs": [
    {
     "data": {
      "image/png": "[encoded data removed]",
      "text/plain": [
       "<Figure size 640x480 with 1 Axes>"
      ]
     },
     "metadata": {},
     "output_type": "display_data"
    },
    {
     "data": {
      "image/png": "[encoded data removed]",
      "text/plain": [
       "<Figure size 640x480 with 1 Axes>"
      ]
     },
     "metadata": {},
     "output_type": "display_data"
    },
    {
     "data": {
      "image/png": "[encoded data removed]",
      "text/plain": [
       "<Figure size 640x480 with 1 Axes>"
      ]
     },
     "metadata": {},
     "output_type": "display_data"
    }
   ],
   "source": [
    "# Boxplot para cada antibiótico\n",
    "for col in antibiotics_columns:\n",
    "    sns.boxplot(x=df[col])\n",
    "    plt.title(f\"Distribución del MIC para {col}\")\n",
    "    plt.show()\n"
   ]
  }
 ],
 "metadata": {
  "kernelspec": {
   "display_name": "Python 3 (ipykernel)",
   "language": "python",
   "name": "python3"
  },
  "language_info": {
   "codemirror_mode": {
    "name": "ipython",
    "version": 3
   },
   "file_extension": ".py",
   "mimetype": "text/x-python",
   "name": "python",
   "nbconvert_exporter": "python",
   "pygments_lexer": "ipython3",
   "version": "3.12.4"
  }
 },
 "nbformat": 4,
 "nbformat_minor": 5
}
